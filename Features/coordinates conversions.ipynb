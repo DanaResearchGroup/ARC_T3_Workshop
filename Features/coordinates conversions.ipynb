{
 "cells": [
  {
   "cell_type": "markdown",
   "metadata": {},
   "source": [
    "# ARC Tools\n",
    "## Coordinates conversions\n",
    "Below, `xyz` and `zmat` refer to Cartesian and internal coordinates, respectively"
   ]
  },
  {
   "cell_type": "code",
   "execution_count": null,
   "metadata": {},
   "outputs": [],
   "source": [
    "from arc.species.converter import (zmat_to_xyz,\n",
    "                                   xyz_to_str,\n",
    "                                   str_to_xyz,\n",
    "                                   zmat_from_xyz,\n",
    "                                   zmat_to_str,\n",
    "                                   xyz_to_xyz_file_format,\n",
    "                                   xyz_file_format_to_xyz,\n",
    "                                   check_xyz_dict,\n",
    "                                   check_zmat_dict,\n",
    "                                   zmat_to_str,\n",
    "                                   str_to_zmat,\n",
    "                                   modify_coords,\n",
    "                                  )\n",
    "from arc.species.species import ARCSpecies\n",
    "from arc.species.zmat import consolidate_zmat\n",
    "import pprint\n",
    "\n",
    "from arc.plotter import draw_structure\n"
   ]
  },
  {
   "cell_type": "markdown",
   "metadata": {},
   "source": [
    "## xyz str to ARC's xyz dict:\n",
    "Note: `xyz_str` could also be a path to a file from which the coordinates will be parsed"
   ]
  },
  {
   "cell_type": "code",
   "execution_count": null,
   "metadata": {},
   "outputs": [],
   "source": [
    "xyz_str = \"\"\"\n",
    "O       1.53830201    0.86423425    0.07482439\n",
    "C       0.94923576   -0.20847619   -0.03881977\n",
    "C      -0.56154542   -0.31516675   -0.05011465\n",
    "O      -1.18981166    0.93489731    0.17603211\n",
    "H       1.49712659   -1.15833718   -0.15458647\n",
    "H      -0.87737433   -0.70077243   -1.02287491\n",
    "H      -0.87053611   -1.01071746    0.73427128\n",
    "H      -0.48610273    1.61361259    0.11915705\n",
    "\"\"\"\n",
    "\n",
    "xyz_dict = check_xyz_dict(xyz_str)\n",
    "\n",
    "pprint.pprint(xyz_dict)\n",
    "draw_structure(xyz_dict)"
   ]
  },
  {
   "cell_type": "markdown",
   "metadata": {},
   "source": [
    "## Modify coordinates"
   ]
  },
  {
   "cell_type": "code",
   "execution_count": null,
   "metadata": {},
   "outputs": [],
   "source": [
    "new_xyz = modify_coords(coords=xyz_dict,\n",
    "                        indices=[7, 3, 2, 1],\n",
    "                        new_value=100,\n",
    "                        modification_type='atom',\n",
    "                       )\n",
    "draw_structure(new_xyz)"
   ]
  },
  {
   "cell_type": "markdown",
   "metadata": {},
   "source": [
    "## xyz (dict or str) to XYZ file format:"
   ]
  },
  {
   "cell_type": "code",
   "execution_count": null,
   "metadata": {},
   "outputs": [],
   "source": [
    "xyz = \"\"\"O       1.53830201    0.86423425    0.07482439\n",
    "C       0.94923576   -0.20847619   -0.03881977\n",
    "C      -0.56154542   -0.31516675   -0.05011465\n",
    "O      -1.18981166    0.93489731    0.17603211\n",
    "H       1.49712659   -1.15833718   -0.15458647\n",
    "H      -0.87737433   -0.70077243   -1.02287491\n",
    "H      -0.87053611   -1.01071746    0.73427128\n",
    "H      -0.48610273    1.61361259    0.11915705\"\"\"\n",
    "\n",
    "xyz_file = xyz_to_xyz_file_format(check_xyz_dict(xyz))\n",
    "\n",
    "print(xyz_file)"
   ]
  },
  {
   "cell_type": "markdown",
   "metadata": {},
   "source": [
    "## xyz to zmat (non-consolidated):"
   ]
  },
  {
   "cell_type": "code",
   "execution_count": null,
   "metadata": {
    "scrolled": true
   },
   "outputs": [],
   "source": [
    "xyz = \"\"\"C       0.00000000    0.00000000    0.00000000\n",
    "H       0.63003260    0.63003260    0.63003260\n",
    "H      -0.63003260   -0.63003260    0.63003260\n",
    "H      -0.63003260    0.63003260   -0.63003260\n",
    "H       0.63003260   -0.63003260   -0.63003260\"\"\"\n",
    "\n",
    "zmat = zmat_from_xyz(xyz, mol=ARCSpecies(label='to_zmat', xyz=xyz).mol, consolidate=False)\n",
    "\n",
    "pprint.pprint(zmat)"
   ]
  },
  {
   "cell_type": "markdown",
   "metadata": {},
   "source": [
    "## xyz to zmat (consolidated):"
   ]
  },
  {
   "cell_type": "code",
   "execution_count": null,
   "metadata": {
    "scrolled": false
   },
   "outputs": [],
   "source": [
    "xyz = \"\"\"C       0.00000000    0.00000000    0.00000000\n",
    "H       0.63003260    0.63003260    0.63003260\n",
    "H      -0.63003260   -0.63003260    0.63003260\n",
    "H      -0.63003260    0.63003260   -0.63003260\n",
    "H       0.63003260   -0.63003260   -0.63003260\"\"\"\n",
    "\n",
    "zmat = zmat_from_xyz(xyz, mol=ARCSpecies(label='to_zmat', xyz=xyz).mol, consolidate=True)\n",
    "\n",
    "pprint.pprint(zmat)"
   ]
  },
  {
   "cell_type": "markdown",
   "metadata": {},
   "source": [
    "## ARC's xyz dict to xyz str:"
   ]
  },
  {
   "cell_type": "code",
   "execution_count": null,
   "metadata": {},
   "outputs": [],
   "source": [
    "xyz_dict = {'symbols': ('S', 'O', 'O', 'N', 'C', 'H', 'H', 'H', 'H', 'H'),\n",
    "            'isotopes': (32, 16, 16, 14, 12, 1, 1, 1, 1, 1),\n",
    "            'coords': ((-0.06618943, -0.12360663, -0.07631983),\n",
    "                       (-0.79539707, 0.86755487, 1.02675668),\n",
    "                       (-0.68919931, 0.25421823, -1.34830853),\n",
    "                       (0.01546439, -1.54297548, 0.44580391),\n",
    "                       (1.59721519, 0.47861334, 0.00711),\n",
    "                       (1.94428095, 0.40772394, 1.03719428),\n",
    "                       (2.20318015, -0.14715186, -0.64755729),\n",
    "                       (1.59252246, 1.5117895, -0.33908352),\n",
    "                       (-0.8785689, -2.02453514, 0.38494433),\n",
    "                       (-1.34135876, 1.49608206, 0.53295071))}\n",
    "\n",
    "xyz_str = xyz_to_str(check_xyz_dict(xyz_dict))\n",
    "\n",
    "print(xyz_str)"
   ]
  },
  {
   "cell_type": "markdown",
   "metadata": {},
   "source": [
    "## zmat to xyz:"
   ]
  },
  {
   "cell_type": "code",
   "execution_count": null,
   "metadata": {},
   "outputs": [],
   "source": [
    "zmat = {'symbols': ('C', 'C', 'O', 'O', 'H', 'H', 'H', 'H', 'H', 'H'),\n",
    "                           'coords': ((None, None, None), ('R_1_0', None, None), ('R_2_1', 'A_2_1_0', None),\n",
    "                                      ('R_3_2', 'A_3_2_0', 'D_3_2_0_1'), ('R_4_3', 'A_4_3_2', 'D_4_3_2_1'),\n",
    "                                      ('R_5|6_4|5', 'A_5_4_3', 'D_5_4_3_2'), ('R_5|6_4|5', 'A_6_5_4', 'D_6_5_4_3'),\n",
    "                                      ('R_7_6', 'A_7_6_5', 'D_7_6_5_4'), ('R_8_7', 'A_8_7_6', 'D_8_7_6_5'),\n",
    "                                      ('R_9_8', 'A_9_8_7', 'D_9_8_7_6')),\n",
    "                           'vars': {'R_1_0': 1.5147479951212197, 'R_2_1': 1.4265728986680748,\n",
    "                                    'A_2_1_0': 108.63387152978416, 'R_3_2': 1.4559254886404387,\n",
    "                                    'A_3_2_0': 142.49656841213346, 'D_3_2_0_1': 359.9876973657817,\n",
    "                                    'R_4_3': 3.98136363204172, 'A_4_3_2': 18.97677735007675,\n",
    "                                    'D_4_3_2_1': 42.78185046014481, 'A_5_4_3': 93.25065759618667,\n",
    "                                    'D_5_4_3_2': 252.54479749290235, 'A_6_5_4': 59.23241987522002,\n",
    "                                    'D_6_5_4_3': 73.32692323400327, 'R_7_6': 3.0667881430187114,\n",
    "                                    'A_7_6_5': 54.754340590195426, 'D_7_6_5_4': 294.3456575162219,\n",
    "                                    'R_8_7': 1.7852968790768806, 'A_8_7_6': 54.69481036370407,\n",
    "                                    'D_8_7_6_5': 256.05221542923823, 'R_9_8': 2.7787694262993705,\n",
    "                                    'A_9_8_7': 89.27884712999244, 'D_9_8_7_6': 257.69473747832507,\n",
    "                                    'R_5|6_4|5': 1.7799476413293496},\n",
    "                           'map': {0: 0, 1: 1, 2: 2, 3: 3, 4: 4, 5: 5, 6: 6, 7: 7, 8: 8, 9: 9}}\n",
    "\n",
    "xyz_dict = zmat_to_xyz(check_zmat_dict(zmat))\n",
    "\n",
    "spc = ARCSpecies(label='S1', xyz=xyz_dict)\n",
    "display(spc.mol)\n",
    "draw_structure(xyz_dict)"
   ]
  },
  {
   "cell_type": "markdown",
   "metadata": {},
   "source": [
    "## zmat dict to ESS-specific zmat string:"
   ]
  },
  {
   "cell_type": "code",
   "execution_count": null,
   "metadata": {},
   "outputs": [],
   "source": [
    "zmat = {'symbols': ('C', 'C', 'C', 'C', 'X', 'C', 'C', 'C', 'H', 'H', 'H', 'H', 'H', 'H', 'H', 'H'),\n",
    "        'coords': ((None, None, None), ('R_1|7_0|6', None, None), ('R_2|6_1|5', 'A_2|7_1|6_0|5', None),\n",
    "                   ('R_3|5_2|3', 'A_3|6_2|5_1|3', 'D_3|7_2|6_1|5_0|3'),\n",
    "                   ('RX_4_3', 'AX_4|5_3|3_2|4', 'DX_4_3_2_1'),\n",
    "                   ('R_3|5_2|3', 'AX_4|5_3|3_2|4', 'DX_5_3_4_2'),\n",
    "                   ('R_2|6_1|5', 'A_3|6_2|5_1|3', 'D_6_5_3_1'),\n",
    "                   ('R_1|7_0|6', 'A_2|7_1|6_0|5', 'D_3|7_2|6_1|5_0|3'),\n",
    "                   ('R_8|11|12|15_0|2|5|7', 'A_8|15_0|7_1|6', 'D_8_0_1_7'),\n",
    "                   ('R_9|14_0|7', 'A_9|14_0|7_1|6', 'D_9_0_1_8'),\n",
    "                   ('R_10|13_1|6', 'A_10|13_1|6_0|7', 'D_10|14_1|7_0|6_9|13'),\n",
    "                   ('R_8|11|12|15_0|2|5|7', 'A_11|12_2|5_1|6', 'D_11|12_2|5_1|6_0|7'),\n",
    "                   ('R_8|11|12|15_0|2|5|7', 'A_11|12_2|5_1|6', 'D_11|12_2|5_1|6_0|7'),\n",
    "                   ('R_10|13_1|6', 'A_10|13_1|6_0|7', 'D_13_6_7_12'),\n",
    "                   ('R_9|14_0|7', 'A_9|14_0|7_1|6', 'D_10|14_1|7_0|6_9|13'),\n",
    "                   ('R_8|11|12|15_0|2|5|7', 'A_8|15_0|7_1|6', 'D_15_7_6_14')),\n",
    "        'vars': {'RX_4_3': 1.0, 'DX_4_3_2_1': 219.28799421779138, 'DX_5_3_4_2': 180.0,\n",
    "                 'D_6_5_3_1': 78.69721089515058, 'D_8_0_1_7': 303.5079357762497,\n",
    "                 'D_9_0_1_8': 179.99747417664557, 'D_13_6_7_12': 180.0829054665434,\n",
    "                 'D_15_7_6_14': 180.00215607227028, 'R_1|7_0|6': 1.3381887062084776,\n",
    "                 'R_2|6_1|5': 1.4407904325150618, 'R_3|5_2|3': 1.3006576158575789,\n",
    "                 'R_8|11|12|15_0|2|5|7': 1.0853633184695155, 'R_9|14_0|7': 1.0856141082269883,\n",
    "                 'R_10|13_1|6': 1.0886528591087101, 'A_2|7_1|6_0|5': 123.19585370239227,\n",
    "                 'A_3|6_2|5_1|3': 121.52258708303276, 'AX_4|5_3|3_2|4': 90.0,\n",
    "                 'A_8|15_0|7_1|6': 122.24044548570495, 'A_9|14_0|7_1|6': 120.41807743308047,\n",
    "                 'A_10|13_1|6_0|7': 119.30818147722846, 'A_11|12_2|5_1|6': 119.14551997750254,\n",
    "                 'D_3|7_2|6_1|5_0|3': 180.11338840380205, 'D_10|14_1|7_0|6_9|13': 0.011830716823514614,\n",
    "                 'D_11|12_2|5_1|6_0|7': 359.8632362707074},\n",
    "        'map': {0: 0, 1: 1, 2: 2, 3: 3, 4: 'X15', 5: 4, 6: 5, 7: 6, 8: 7, 9: 8, 10: 9, 11: 10, 12: 11,\n",
    "                13: 12, 14: 13, 15: 14}}\n",
    "\n",
    "# allowed formats are: 'gaussian', 'qchem', 'molpro', 'orca', or 'psi4'\n",
    "zmat_str = zmat_to_str(zmat, zmat_format='gaussian', consolidate=True)\n",
    "\n",
    "print(zmat_str)"
   ]
  }
 ],
 "metadata": {
  "kernelspec": {
   "display_name": "Python 3 (ipykernel)",
   "language": "python",
   "name": "python3"
  },
  "language_info": {
   "codemirror_mode": {
    "name": "ipython",
    "version": 3
   },
   "file_extension": ".py",
   "mimetype": "text/x-python",
   "name": "python",
   "nbconvert_exporter": "python",
   "pygments_lexer": "ipython3",
   "version": "3.7.12"
  },
  "pycharm": {
   "stem_cell": {
    "cell_type": "raw",
    "metadata": {
     "collapsed": false
    },
    "source": []
   }
  }
 },
 "nbformat": 4,
 "nbformat_minor": 2
}
