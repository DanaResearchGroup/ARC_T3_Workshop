{
 "cells": [
  {
   "cell_type": "markdown",
   "metadata": {},
   "source": [
    "# ARC Tools\n",
    "### Generate conformers"
   ]
  },
  {
   "cell_type": "markdown",
   "metadata": {},
   "source": [
    "#### input parameters:"
   ]
  },
  {
   "cell_type": "code",
   "execution_count": null,
   "metadata": {},
   "outputs": [],
   "source": [
    "from arc.plotter import draw_structure\n",
    "from arc.species.conformers import generate_conformers\n",
    "from arc.species.converter import xyz_to_str\n",
    "from arc.species.species import ARCSpecies\n",
    "from IPython.display import display\n",
    "%matplotlib inline"
   ]
  },
  {
   "cell_type": "code",
   "execution_count": null,
   "metadata": {},
   "outputs": [],
   "source": [
    "smiles = 'NCCC(OO)'"
   ]
  },
  {
   "cell_type": "code",
   "execution_count": null,
   "metadata": {
    "scrolled": false
   },
   "outputs": [],
   "source": [
    "spc1 = ARCSpecies(label='spc1', smiles=smiles)  # don't forget to specify the net charge for charged species\n",
    "display(spc1.mol.copy(deep=True))\n",
    "mol_list = spc1.mol_list if spc1.mol_list else [spc1.mol]\n",
    "\n",
    "lowest_confs = generate_conformers(mol_list=mol_list,\n",
    "                                   label=spc1.label,\n",
    "                                   charge=spc1.charge,\n",
    "                                   multiplicity=spc1.multiplicity,\n",
    "                                   force_field='MMFF94s',\n",
    "                                   print_logs=True,\n",
    "                                   n_confs=10,  # max number of confs to return\n",
    "                                   e_confs=5,  # energy threshold (kJ/mol) for confs above the lowest energy one to return\n",
    "                                   return_all_conformers=False,\n",
    "                                   plot_path='confs',\n",
    "                                   )\n",
    "\n",
    "for conf in lowest_confs:\n",
    "    print(conf['source'])\n",
    "    print(f'energy: {conf[\"FF energy\"]}')\n",
    "    print(xyz_to_str(conf['xyz']))\n",
    "    draw_structure(xyz=conf['xyz'])"
   ]
  },
  {
   "cell_type": "code",
   "execution_count": null,
   "metadata": {},
   "outputs": [],
   "source": []
  }
 ],
 "metadata": {
  "kernelspec": {
   "display_name": "Python 3 (ipykernel)",
   "language": "python",
   "name": "python3"
  },
  "language_info": {
   "codemirror_mode": {
    "name": "ipython",
    "version": 3
   },
   "file_extension": ".py",
   "mimetype": "text/x-python",
   "name": "python",
   "nbconvert_exporter": "python",
   "pygments_lexer": "ipython3",
   "version": "3.7.12"
  },
  "pycharm": {
   "stem_cell": {
    "cell_type": "raw",
    "metadata": {
     "collapsed": false
    },
    "source": []
   }
  }
 },
 "nbformat": 4,
 "nbformat_minor": 2
}
