{
 "cells": [
  {
   "cell_type": "markdown",
   "metadata": {},
   "source": [
    "# ARC Tools\n",
    "### Plot 3D coordinates"
   ]
  },
  {
   "cell_type": "markdown",
   "metadata": {},
   "source": [
    "#### input parameters:"
   ]
  },
  {
   "cell_type": "code",
   "execution_count": 1,
   "metadata": {},
   "outputs": [],
   "source": [
    "xyz = \"\"\"\n",
    "O       1.17464110   -0.15309781    0.00000000\n",
    "N       0.06304988    0.35149648    0.00000000\n",
    "C      -1.12708952   -0.11333971    0.00000000\n",
    "H      -1.93800144    0.60171738    0.00000000\n",
    "H      -1.29769464   -1.18742971    0.00000000\n",
    "\"\"\""
   ]
  },
  {
   "cell_type": "code",
   "execution_count": 8,
   "metadata": {},
   "outputs": [],
   "source": [
    "from arc.plotter import show_sticks, plot_3d_mol_as_scatter\n",
    "from arc.species.converter import check_xyz_dict, molecules_from_xyz\n",
    "from arc.species.converter import xyz_to_pybel_mol, pybel_to_inchi\n",
    "from IPython.display import display\n",
    "%matplotlib inline\n",
    "\n",
    "xyz = '/home/alongd/Code/ARC/ipython/Tools/ts1016.log'\n",
    "\n",
    "xyz = check_xyz_dict(xyz)"
   ]
  },
  {
   "cell_type": "code",
   "execution_count": 6,
   "metadata": {},
   "outputs": [],
   "source": [
    "path = '/home/alongd/Code/runs/T3/35/iteration_0/ARC/calcs/Species/C2H4_0/freq_a6950/output.out'"
   ]
  },
  {
   "cell_type": "code",
   "execution_count": 9,
   "metadata": {},
   "outputs": [
    {
     "data": {
      "application/3dmoljs_load.v0": "<div id=\"3dmolviewer_15931965379759881\"  style=\"position: relative; width: 400px; height: 400px\">\n        <p id=\"3dmolwarning_15931965379759881\" style=\"background-color:#ffcccc;color:black\">You appear to be running in JupyterLab (or JavaScript failed to load for some other reason).  You need to install the 3dmol extension: <br>\n        <tt>jupyter labextension install jupyterlab_3dmol</tt></p>\n        </div>\n<script>\n\nvar loadScriptAsync = function(uri){\n  return new Promise((resolve, reject) => {\n    var tag = document.createElement('script');\n    tag.src = uri;\n    tag.async = true;\n    tag.onload = () => {\n      resolve();\n    };\n  var firstScriptTag = document.getElementsByTagName('script')[0];\n  firstScriptTag.parentNode.insertBefore(tag, firstScriptTag);\n});\n};\n\nif(typeof $3Dmolpromise === 'undefined') {\n$3Dmolpromise = null;\n  $3Dmolpromise = loadScriptAsync('https://3dmol.csb.pitt.edu/build/3Dmol.js');\n}\n\nvar viewer_15931965379759881 = null;\nvar warn = document.getElementById(\"3dmolwarning_15931965379759881\");\nif(warn) {\n    warn.parentNode.removeChild(warn);\n}\n$3Dmolpromise.then(function() {\nviewer_15931965379759881 = $3Dmol.createViewer($(\"#3dmolviewer_15931965379759881\"),{backgroundColor:\"white\"});\n\tviewer_15931965379759881.addModel(\"\\n     RDKit          3D\\n\\n 22 21  0  0  0  0  0  0  0  0999 V2000\\n    2.6783   -0.0344   -0.2127 N   0  0  0  0  0  0  0  0  0  0  0  0\\n    1.2400   -0.1946    0.1514 C   0  0  0  0  0  0  0  0  0  0  0  0\\n    0.3809    0.2797   -1.0317 C   0  0  0  0  0  0  0  0  0  0  0  0\\n    1.0395   -1.2749    0.3399 H   0  0  0  0  0  0  0  0  0  0  0  0\\n    0.9535    0.3566    1.0732 H   0  0  0  0  0  0  0  0  0  0  0  0\\n   -1.1181    0.0557   -0.8257 C   0  0  0  0  0  0  0  0  0  0  0  0\\n    0.5613    1.3553   -1.2292 H   0  0  0  0  0  0  0  0  0  0  0  0\\n    0.7051   -0.2600   -1.9496 H   0  0  0  0  0  0  0  0  0  0  0  0\\n   -1.6615    0.7865    0.3640 N   0  0  0  0  0  0  0  0  0  0  0  0\\n   -1.7024    0.2992   -1.7419 H   0  0  0  0  0  0  0  0  0  0  0  0\\n   -1.9662   -0.0688    1.4732 C   0  0  0  0  0  3  0  0  0  0  0  0\\n   -2.7781    1.7066    0.0055 C   0  0  0  0  0  0  0  0  0  0  0  0\\n   -1.0886   -0.5618    1.9005 H   0  0  0  0  0  0  0  0  0  0  0  0\\n   -2.6565    0.3225    2.2149 H   0  0  0  0  0  0  0  0  0  0  0  0\\n   -2.5558   -1.1768    0.9836 H   0  0  0  0  0  0  0  0  0  0  0  0\\n   -3.0537    2.3105    0.8860 H   0  0  0  0  0  0  0  0  0  0  0  0\\n   -3.6835    1.1912   -0.3555 H   0  0  0  0  0  0  0  0  0  0  0  0\\n   -2.4396    2.4098   -0.7729 H   0  0  0  0  0  0  0  0  0  0  0  0\\n   -1.2197   -1.4020   -0.5946 O   0  0  0  0  0  0  0  0  0  0  0  0\\n   -2.4537   -1.7208   -0.2269 O   0  0  0  0  0  0  0  0  0  0  0  0\\n    3.2705   -0.4938    0.4719 H   0  0  0  0  0  0  0  0  0  0  0  0\\n    2.9396    0.9463   -0.2247 H   0  0  0  0  0  0  0  0  0  0  0  0\\n  1  2  1  0\\n  1 21  1  0\\n  1 22  1  0\\n  2  3  1  0\\n  2  4  1  0\\n  2  5  1  0\\n  3  6  1  0\\n  3  7  1  0\\n  3  8  1  0\\n  6  9  1  0\\n  6 19  1  0\\n  6 10  1  0\\n  9 11  1  0\\n  9 12  1  0\\n 11 13  1  0\\n 11 14  1  0\\n 12 16  1  0\\n 12 17  1  0\\n 12 18  1  0\\n 15 20  1  0\\n 19 20  1  0\\nM  RAD  1  11   2\\nM  END\\n\",\"sdf\");\n\tviewer_15931965379759881.setStyle({\"stick\": {}});\n\tviewer_15931965379759881.zoomTo();\nviewer_15931965379759881.render();\n});\n</script>",
      "text/html": [
       "<div id=\"3dmolviewer_15931965379759881\"  style=\"position: relative; width: 400px; height: 400px\">\n",
       "        <p id=\"3dmolwarning_15931965379759881\" style=\"background-color:#ffcccc;color:black\">You appear to be running in JupyterLab (or JavaScript failed to load for some other reason).  You need to install the 3dmol extension: <br>\n",
       "        <tt>jupyter labextension install jupyterlab_3dmol</tt></p>\n",
       "        </div>\n",
       "<script>\n",
       "\n",
       "var loadScriptAsync = function(uri){\n",
       "  return new Promise((resolve, reject) => {\n",
       "    var tag = document.createElement('script');\n",
       "    tag.src = uri;\n",
       "    tag.async = true;\n",
       "    tag.onload = () => {\n",
       "      resolve();\n",
       "    };\n",
       "  var firstScriptTag = document.getElementsByTagName('script')[0];\n",
       "  firstScriptTag.parentNode.insertBefore(tag, firstScriptTag);\n",
       "});\n",
       "};\n",
       "\n",
       "if(typeof $3Dmolpromise === 'undefined') {\n",
       "$3Dmolpromise = null;\n",
       "  $3Dmolpromise = loadScriptAsync('https://3dmol.csb.pitt.edu/build/3Dmol.js');\n",
       "}\n",
       "\n",
       "var viewer_15931965379759881 = null;\n",
       "var warn = document.getElementById(\"3dmolwarning_15931965379759881\");\n",
       "if(warn) {\n",
       "    warn.parentNode.removeChild(warn);\n",
       "}\n",
       "$3Dmolpromise.then(function() {\n",
       "viewer_15931965379759881 = $3Dmol.createViewer($(\"#3dmolviewer_15931965379759881\"),{backgroundColor:\"white\"});\n",
       "\tviewer_15931965379759881.addModel(\"\\n     RDKit          3D\\n\\n 22 21  0  0  0  0  0  0  0  0999 V2000\\n    2.6783   -0.0344   -0.2127 N   0  0  0  0  0  0  0  0  0  0  0  0\\n    1.2400   -0.1946    0.1514 C   0  0  0  0  0  0  0  0  0  0  0  0\\n    0.3809    0.2797   -1.0317 C   0  0  0  0  0  0  0  0  0  0  0  0\\n    1.0395   -1.2749    0.3399 H   0  0  0  0  0  0  0  0  0  0  0  0\\n    0.9535    0.3566    1.0732 H   0  0  0  0  0  0  0  0  0  0  0  0\\n   -1.1181    0.0557   -0.8257 C   0  0  0  0  0  0  0  0  0  0  0  0\\n    0.5613    1.3553   -1.2292 H   0  0  0  0  0  0  0  0  0  0  0  0\\n    0.7051   -0.2600   -1.9496 H   0  0  0  0  0  0  0  0  0  0  0  0\\n   -1.6615    0.7865    0.3640 N   0  0  0  0  0  0  0  0  0  0  0  0\\n   -1.7024    0.2992   -1.7419 H   0  0  0  0  0  0  0  0  0  0  0  0\\n   -1.9662   -0.0688    1.4732 C   0  0  0  0  0  3  0  0  0  0  0  0\\n   -2.7781    1.7066    0.0055 C   0  0  0  0  0  0  0  0  0  0  0  0\\n   -1.0886   -0.5618    1.9005 H   0  0  0  0  0  0  0  0  0  0  0  0\\n   -2.6565    0.3225    2.2149 H   0  0  0  0  0  0  0  0  0  0  0  0\\n   -2.5558   -1.1768    0.9836 H   0  0  0  0  0  0  0  0  0  0  0  0\\n   -3.0537    2.3105    0.8860 H   0  0  0  0  0  0  0  0  0  0  0  0\\n   -3.6835    1.1912   -0.3555 H   0  0  0  0  0  0  0  0  0  0  0  0\\n   -2.4396    2.4098   -0.7729 H   0  0  0  0  0  0  0  0  0  0  0  0\\n   -1.2197   -1.4020   -0.5946 O   0  0  0  0  0  0  0  0  0  0  0  0\\n   -2.4537   -1.7208   -0.2269 O   0  0  0  0  0  0  0  0  0  0  0  0\\n    3.2705   -0.4938    0.4719 H   0  0  0  0  0  0  0  0  0  0  0  0\\n    2.9396    0.9463   -0.2247 H   0  0  0  0  0  0  0  0  0  0  0  0\\n  1  2  1  0\\n  1 21  1  0\\n  1 22  1  0\\n  2  3  1  0\\n  2  4  1  0\\n  2  5  1  0\\n  3  6  1  0\\n  3  7  1  0\\n  3  8  1  0\\n  6  9  1  0\\n  6 19  1  0\\n  6 10  1  0\\n  9 11  1  0\\n  9 12  1  0\\n 11 13  1  0\\n 11 14  1  0\\n 12 16  1  0\\n 12 17  1  0\\n 12 18  1  0\\n 15 20  1  0\\n 19 20  1  0\\nM  RAD  1  11   2\\nM  END\\n\",\"sdf\");\n",
       "\tviewer_15931965379759881.setStyle({\"stick\": {}});\n",
       "\tviewer_15931965379759881.zoomTo();\n",
       "viewer_15931965379759881.render();\n",
       "});\n",
       "</script>"
      ]
     },
     "metadata": {},
     "output_type": "display_data"
    },
    {
     "data": {
      "text/plain": [
       "True"
      ]
     },
     "execution_count": 9,
     "metadata": {},
     "output_type": "execute_result"
    }
   ],
   "source": [
    "show_sticks(xyz)"
   ]
  },
  {
   "cell_type": "code",
   "execution_count": 3,
   "metadata": {},
   "outputs": [
    {
     "name": "stdout",
     "output_type": "stream",
     "text": [
      "[O]N=C\n",
      "\n",
      "\n",
      "InChI=1/CH2NO/c1-2-3/h1H2\n",
      "\n",
      "\n",
      "multiplicity 2\n",
      "1 O u1 p2 c0 {2,S}\n",
      "2 N u0 p1 c0 {1,S} {3,D}\n",
      "3 C u0 p0 c0 {2,D} {4,S} {5,S}\n",
      "4 H u0 p0 c0 {3,S}\n",
      "5 H u0 p0 c0 {3,S}\n",
      "\n",
      "\n",
      "\n"
     ]
    },
    {
     "data": {
      "image/png": "[encoded data removed]",
      "text/plain": [
       "Molecule(smiles=\"[O]N=C\")"
      ]
     },
     "metadata": {},
     "output_type": "display_data"
    }
   ],
   "source": [
    "# Analyze graph\n",
    "\n",
    "s_mol, b_mol = molecules_from_xyz(xyz)\n",
    "mol = b_mol or s_mol\n",
    "print(mol.to_smiles())\n",
    "print('\\n')\n",
    "print(pybel_to_inchi(xyz_to_pybel_mol(xyz)))\n",
    "print('\\n')\n",
    "print(mol.to_adjacency_list())\n",
    "print('\\n')\n",
    "display(mol)"
   ]
  },
  {
   "cell_type": "code",
   "execution_count": 4,
   "metadata": {},
   "outputs": [
    {
     "data": {
      "application/3dmoljs_load.v0": "<div id=\"3dmolviewer_1593194001914734\"  style=\"position: relative; width: 400px; height: 400px\">\n        <p id=\"3dmolwarning_1593194001914734\" style=\"background-color:#ffcccc;color:black\">You appear to be running in JupyterLab (or JavaScript failed to load for some other reason).  You need to install the 3dmol extension: <br>\n        <tt>jupyter labextension install jupyterlab_3dmol</tt></p>\n        </div>\n<script>\n\nvar loadScriptAsync = function(uri){\n  return new Promise((resolve, reject) => {\n    var tag = document.createElement('script');\n    tag.src = uri;\n    tag.async = true;\n    tag.onload = () => {\n      resolve();\n    };\n  var firstScriptTag = document.getElementsByTagName('script')[0];\n  firstScriptTag.parentNode.insertBefore(tag, firstScriptTag);\n});\n};\n\nif(typeof $3Dmolpromise === 'undefined') {\n$3Dmolpromise = null;\n  $3Dmolpromise = loadScriptAsync('https://3dmol.csb.pitt.edu/build/3Dmol.js');\n}\n\nvar viewer_1593194001914734 = null;\nvar warn = document.getElementById(\"3dmolwarning_1593194001914734\");\nif(warn) {\n    warn.parentNode.removeChild(warn);\n}\n$3Dmolpromise.then(function() {\nviewer_1593194001914734 = $3Dmol.createViewer($(\"#3dmolviewer_1593194001914734\"),{backgroundColor:\"white\"});\n\tviewer_1593194001914734.addModel(\"\\n     RDKit          3D\\n\\n  5  4  0  0  0  0  0  0  0  0999 V2000\\n    1.1746   -0.1531    0.0000 O   0  0  0  0  0  1  0  0  0  0  0  0\\n    0.0630    0.3515    0.0000 N   0  0  0  0  0  0  0  0  0  0  0  0\\n   -1.1271   -0.1133    0.0000 C   0  0  0  0  0  0  0  0  0  0  0  0\\n   -1.9380    0.6017    0.0000 H   0  0  0  0  0  0  0  0  0  0  0  0\\n   -1.2977   -1.1874    0.0000 H   0  0  0  0  0  0  0  0  0  0  0  0\\n  1  2  1  0\\n  2  3  2  3\\n  3  4  1  0\\n  3  5  1  0\\nM  RAD  1   1   2\\nM  END\\n\",\"sdf\");\n\tviewer_1593194001914734.setStyle({\"stick\": {}});\n\tviewer_1593194001914734.zoomTo();\nviewer_1593194001914734.render();\n});\n</script>",
      "text/html": [
       "<div id=\"3dmolviewer_1593194001914734\"  style=\"position: relative; width: 400px; height: 400px\">\n",
       "        <p id=\"3dmolwarning_1593194001914734\" style=\"background-color:#ffcccc;color:black\">You appear to be running in JupyterLab (or JavaScript failed to load for some other reason).  You need to install the 3dmol extension: <br>\n",
       "        <tt>jupyter labextension install jupyterlab_3dmol</tt></p>\n",
       "        </div>\n",
       "<script>\n",
       "\n",
       "var loadScriptAsync = function(uri){\n",
       "  return new Promise((resolve, reject) => {\n",
       "    var tag = document.createElement('script');\n",
       "    tag.src = uri;\n",
       "    tag.async = true;\n",
       "    tag.onload = () => {\n",
       "      resolve();\n",
       "    };\n",
       "  var firstScriptTag = document.getElementsByTagName('script')[0];\n",
       "  firstScriptTag.parentNode.insertBefore(tag, firstScriptTag);\n",
       "});\n",
       "};\n",
       "\n",
       "if(typeof $3Dmolpromise === 'undefined') {\n",
       "$3Dmolpromise = null;\n",
       "  $3Dmolpromise = loadScriptAsync('https://3dmol.csb.pitt.edu/build/3Dmol.js');\n",
       "}\n",
       "\n",
       "var viewer_1593194001914734 = null;\n",
       "var warn = document.getElementById(\"3dmolwarning_1593194001914734\");\n",
       "if(warn) {\n",
       "    warn.parentNode.removeChild(warn);\n",
       "}\n",
       "$3Dmolpromise.then(function() {\n",
       "viewer_1593194001914734 = $3Dmol.createViewer($(\"#3dmolviewer_1593194001914734\"),{backgroundColor:\"white\"});\n",
       "\tviewer_1593194001914734.addModel(\"\\n     RDKit          3D\\n\\n  5  4  0  0  0  0  0  0  0  0999 V2000\\n    1.1746   -0.1531    0.0000 O   0  0  0  0  0  1  0  0  0  0  0  0\\n    0.0630    0.3515    0.0000 N   0  0  0  0  0  0  0  0  0  0  0  0\\n   -1.1271   -0.1133    0.0000 C   0  0  0  0  0  0  0  0  0  0  0  0\\n   -1.9380    0.6017    0.0000 H   0  0  0  0  0  0  0  0  0  0  0  0\\n   -1.2977   -1.1874    0.0000 H   0  0  0  0  0  0  0  0  0  0  0  0\\n  1  2  1  0\\n  2  3  2  3\\n  3  4  1  0\\n  3  5  1  0\\nM  RAD  1   1   2\\nM  END\\n\",\"sdf\");\n",
       "\tviewer_1593194001914734.setStyle({\"stick\": {}});\n",
       "\tviewer_1593194001914734.zoomTo();\n",
       "viewer_1593194001914734.render();\n",
       "});\n",
       "</script>"
      ]
     },
     "metadata": {},
     "output_type": "display_data"
    },
    {
     "data": {
      "text/plain": [
       "True"
      ]
     },
     "execution_count": 4,
     "metadata": {},
     "output_type": "execute_result"
    }
   ],
   "source": [
    "show_sticks(xyz)"
   ]
  },
  {
   "cell_type": "code",
   "execution_count": 5,
   "metadata": {},
   "outputs": [
    {
     "name": "stderr",
     "output_type": "stream",
     "text": [
      "WARNING:pint.util:Could not resolve planks_constant: UndefinedUnitError()\n",
      "WARNING:pint.util:Could not resolve plank_constant: UndefinedUnitError()\n"
     ]
    },
    {
     "data": {
      "image/png": "[encoded data removed]",
      "text/plain": [
       "<Figure size 432x288 with 1 Axes>"
      ]
     },
     "metadata": {
      "needs_background": "light"
     },
     "output_type": "display_data"
    }
   ],
   "source": [
    "plot_3d_mol_as_scatter(xyz)"
   ]
  },
  {
   "cell_type": "code",
   "execution_count": null,
   "metadata": {},
   "outputs": [],
   "source": []
  },
  {
   "cell_type": "code",
   "execution_count": null,
   "metadata": {},
   "outputs": [],
   "source": []
  },
  {
   "cell_type": "code",
   "execution_count": null,
   "metadata": {},
   "outputs": [],
   "source": []
  }
 ],
 "metadata": {
  "kernelspec": {
   "display_name": "Python 3 (ipykernel)",
   "language": "python",
   "name": "python3"
  },
  "language_info": {
   "codemirror_mode": {
    "name": "ipython",
    "version": 3
   },
   "file_extension": ".py",
   "mimetype": "text/x-python",
   "name": "python",
   "nbconvert_exporter": "python",
   "pygments_lexer": "ipython3",
   "version": "3.7.12"
  }
 },
 "nbformat": 4,
 "nbformat_minor": 2
}
