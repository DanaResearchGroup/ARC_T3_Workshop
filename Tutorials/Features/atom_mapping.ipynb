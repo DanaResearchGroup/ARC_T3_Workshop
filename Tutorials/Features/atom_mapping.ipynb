{
 "cells": [
  {
   "cell_type": "code",
   "execution_count": 1,
   "id": "607d1bf0",
   "metadata": {},
   "outputs": [
    {
     "name": "stderr",
     "output_type": "stream",
     "text": [
      "/opt/conda/envs/arc_env/lib/python3.7/site-packages/paramiko/transport.py:219: CryptographyDeprecationWarning: Blowfish has been deprecated\n",
      "  \"class\": algorithms.Blowfish,\n"
     ]
    }
   ],
   "source": [
    "from arc.species import ARCSpecies\n",
    "from arc.reaction import ARCReaction\n",
    "from arc.rmgdb import make_rmg_database_object, determine_family, load_families_only, load_rmg_database\n",
    "from arc.plotter import show_sticks"
   ]
  },
  {
   "cell_type": "markdown",
   "id": "b4a83e72",
   "metadata": {},
   "source": [
    "# 3-D atom mapping\n",
    "ARC has a 3-D based atom mapping algorithm, which can be used for most reaction families from the RMGdatabase"
   ]
  },
  {
   "cell_type": "code",
   "execution_count": 2,
   "id": "14efc444",
   "metadata": {},
   "outputs": [],
   "source": [
    "db = make_rmg_database_object()\n",
    "load_families_only(db, \"all\")"
   ]
  },
  {
   "cell_type": "code",
   "execution_count": 3,
   "id": "be412b49",
   "metadata": {},
   "outputs": [],
   "source": [
    "reactants = [ARCSpecies(label = \"NN\", smiles = \"NN\"), ARCSpecies(label = \"N_rad\", smiles = \"[NH2]\")]\n",
    "products = [ARCSpecies(label = \"NN_rad\", smiles = \"N[NH]\"), ARCSpecies(label = \"N\", smiles = \"N\")]"
   ]
  },
  {
   "cell_type": "code",
   "execution_count": 4,
   "id": "bcc95e4c",
   "metadata": {},
   "outputs": [],
   "source": [
    "rxn = ARCReaction(r_species=reactants, p_species=products)"
   ]
  },
  {
   "cell_type": "code",
   "execution_count": 7,
   "id": "c4426c62",
   "metadata": {},
   "outputs": [],
   "source": [
    "rxn.determine_family(db)"
   ]
  },
  {
   "cell_type": "code",
   "execution_count": 8,
   "id": "9fab1665",
   "metadata": {},
   "outputs": [
    {
     "data": {
      "text/plain": [
       "[1, 0, 8, 4, 3, 2, 5, 6, 7]"
      ]
     },
     "execution_count": 8,
     "metadata": {},
     "output_type": "execute_result"
    }
   ],
   "source": [
    "rxn.atom_map"
   ]
  },
  {
   "cell_type": "code",
   "execution_count": null,
   "id": "729e4788",
   "metadata": {},
   "outputs": [],
   "source": [
    "for spc in reactants+products:\n",
    "    show_sticks"
   ]
  }
 ],
 "metadata": {
  "kernelspec": {
   "display_name": "Python 3 (ipykernel)",
   "language": "python",
   "name": "python3"
  },
  "language_info": {
   "codemirror_mode": {
    "name": "ipython",
    "version": 3
   },
   "file_extension": ".py",
   "mimetype": "text/x-python",
   "name": "python",
   "nbconvert_exporter": "python",
   "pygments_lexer": "ipython3",
   "version": "3.7.16"
  }
 },
 "nbformat": 4,
 "nbformat_minor": 5
}
