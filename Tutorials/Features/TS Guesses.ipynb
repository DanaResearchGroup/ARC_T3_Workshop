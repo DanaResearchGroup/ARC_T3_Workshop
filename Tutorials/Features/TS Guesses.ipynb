{
 "cells": [
  {
   "cell_type": "markdown",
   "id": "9bfc8aa6",
   "metadata": {},
   "source": [
    "# ARC Tools\n",
    "## TS Guesses\n",
    "Enter smiles of reactants and products. Write ``None`` if needed."
   ]
  },
  {
   "cell_type": "code",
   "execution_count": null,
   "id": "5bae17f3",
   "metadata": {},
   "outputs": [],
   "source": [
    "from arc.imports import settings\n",
    "from arc.job.adapters.common import all_families_ts_adapters, ts_adapters_by_rmg_family\n",
    "from arc.plotter import draw_structure\n",
    "from arc.reaction import ARCReaction\n",
    "from arc.rmgdb import make_rmg_database_object, load_families_only\n",
    "from arc.species import ARCSpecies\n",
    "from arc.species.converter import xyz_to_str\n",
    "from arc.scheduler import Scheduler\n",
    "\n",
    "%matplotlib inline"
   ]
  },
  {
   "cell_type": "code",
   "execution_count": null,
   "id": "c2be78fd",
   "metadata": {},
   "outputs": [],
   "source": [
    "r1_smiles = '[OH]'\n",
    "r2_smiles = 'CCC'\n",
    "\n",
    "p1_smiles = 'O'\n",
    "p2_smiles = '[CH2]CC'\n",
    "\n",
    "dihedral_increment = 60"
   ]
  },
  {
   "cell_type": "code",
   "execution_count": null,
   "id": "826ede9f",
   "metadata": {},
   "outputs": [],
   "source": [
    "rmgdb = make_rmg_database_object()\n",
    "load_families_only(rmgdb)"
   ]
  },
  {
   "cell_type": "code",
   "execution_count": null,
   "id": "9a2a6dc9",
   "metadata": {},
   "outputs": [],
   "source": [
    "def generate_species_from_smiles(smiles):\n",
    "    return ARCSpecies(label=smiles, smiles=smiles)"
   ]
  },
  {
   "cell_type": "code",
   "execution_count": null,
   "id": "348b3b0a",
   "metadata": {},
   "outputs": [],
   "source": [
    "r_species, p_species = list(), list()\n",
    "for r_smiles in [r1_smiles, r2_smiles]:\n",
    "    if r_smiles is not None:\n",
    "        r_species.append(generate_species_from_smiles(r_smiles))\n",
    "for p_smiles in [p1_smiles, p2_smiles]:\n",
    "    if p_smiles is not None:\n",
    "        p_species.append(generate_species_from_smiles(p_smiles))\n",
    "\n",
    "rxn = ARCReaction(r_species=r_species, p_species=p_species)\n",
    "rxn.ts_species = ARCSpecies(label='TS', is_ts=True)\n",
    "rxn.determine_family(rmg_database=rmgdb)\n",
    "\n",
    "print(f'Considering the following reaction:\\n\\n{rxn.label}\\n\\nReaction family: {rxn.family.label}')"
   ]
  },
  {
   "cell_type": "code",
   "execution_count": null,
   "id": "2db720a0",
   "metadata": {
    "scrolled": false
   },
   "outputs": [],
   "source": [
    "sched = Scheduler(project='TS_search_1',\n",
    "                  species_list=rxn.r_species + rxn.p_species,\n",
    "                  rmg_database=rmgdb,\n",
    "                  conformer_level='wb97xd/Def2TZVP',\n",
    "                  opt_level='wb97xd/Def2TZVP',\n",
    "                  sp_level='wb97xd/Def2TZVP',\n",
    "                  freq_level='wb97xd/Def2TZVP',\n",
    "                  ess_settings=None,\n",
    "                  testing=True,\n",
    "                  project_directory='~/Code/TS_search_1',\n",
    "                 )\n",
    "sched.job_dict = {'TS': {'tsg': {}}}"
   ]
  },
  {
   "cell_type": "code",
   "execution_count": null,
   "id": "0ff84291",
   "metadata": {},
   "outputs": [],
   "source": [
    "tsg_index = 0\n",
    "#ts_adapters = settings['ts_adapters']\n",
    "ts_adapters = ['heuristics', 'xtb_gsm']\n",
    "ts_adapters = [a.lower() for a in ts_adapters]\n",
    "\n",
    "print(f'Considering the following TS Search methods: {ts_adapters}')\n",
    "\n",
    "for method in ts_adapters:\n",
    "    if method in all_families_ts_adapters or \\\n",
    "            (rxn.family is not None\n",
    "             and rxn.family.label in list(ts_adapters_by_rmg_family.keys())\n",
    "             and method in ts_adapters_by_rmg_family[rxn.family.label]):\n",
    "        sched.run_job(job_type='tsg',\n",
    "                      job_adapter=method,\n",
    "                      reactions=[rxn],\n",
    "                      tsg=tsg_index,\n",
    "                      dihedral_increment=dihedral_increment,\n",
    "                     )\n",
    "        tsg_index += 1\n",
    "\n",
    "print(f'Got {len(rxn.ts_species.ts_guesses)} TS Guesses (before clustering).')\n",
    "\n",
    "rxn.ts_species.cluster_tsgs()\n",
    "        \n",
    "print(f'Got {len(rxn.ts_species.ts_guesses)} TS Guesses (after clustering).')"
   ]
  },
  {
   "cell_type": "code",
   "execution_count": null,
   "id": "91452d76",
   "metadata": {
    "scrolled": false
   },
   "outputs": [],
   "source": [
    "for tsg in rxn.ts_species.ts_guesses:\n",
    "    print(f'{tsg.method} {tsg.method_index} (success: {tsg.success}):')\n",
    "    print(f'coordinates:\\n{xyz_to_str(tsg.initial_xyz)}')\n",
    "    if tsg.initial_xyz is not None:\n",
    "        draw_structure(xyz=tsg.initial_xyz)\n",
    "    print('\\n\\n\\n')"
   ]
  },
  {
   "cell_type": "code",
   "execution_count": null,
   "id": "5f74e942",
   "metadata": {},
   "outputs": [],
   "source": []
  }
 ],
 "metadata": {
  "kernelspec": {
   "display_name": "Python 3 (ipykernel)",
   "language": "python",
   "name": "python3"
  },
  "language_info": {
   "codemirror_mode": {
    "name": "ipython",
    "version": 3
   },
   "file_extension": ".py",
   "mimetype": "text/x-python",
   "name": "python",
   "nbconvert_exporter": "python",
   "pygments_lexer": "ipython3",
   "version": "3.7.12"
  }
 },
 "nbformat": 4,
 "nbformat_minor": 5
}
