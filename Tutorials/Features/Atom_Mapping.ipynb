{
 "cells": [
  {
   "cell_type": "markdown",
   "id": "d42e7bdb",
   "metadata": {},
   "source": [
    "# ARC Features\n",
    "## Atom Mapping"
   ]
  },
  {
   "cell_type": "code",
   "execution_count": 1,
   "id": "e67b1116",
   "metadata": {},
   "outputs": [
    {
     "name": "stderr",
     "output_type": "stream",
     "text": [
      "/home/kfir4444/psi4conda/envs/arc_env/lib/python3.7/site-packages/paramiko/transport.py:219: CryptographyDeprecationWarning: Blowfish has been deprecated\n",
      "  \"class\": algorithms.Blowfish,\n"
     ]
    }
   ],
   "source": [
    "from arc.species import ARCSpecies\n",
    "from arc.reaction import ARCReaction\n",
    "from arc.species.mapping import map_intra_h_migration\n",
    "from arc.rmgdb import make_rmg_database_object, determine_family, load_families_only\n",
    "from arc.plotter import draw_structure\n",
    "db = make_rmg_database_object()\n",
    "load_families_only(db,\"all\")"
   ]
  },
  {
   "cell_type": "markdown",
   "id": "54c92f9b",
   "metadata": {},
   "source": [
    "### Define reactions:"
   ]
  },
  {
   "cell_type": "code",
   "execution_count": 2,
   "id": "31ed04e2",
   "metadata": {},
   "outputs": [],
   "source": [
    "rxn = ARCReaction(label='CH2CH2NH2 <=> CH3CH2NH',\n",
    "                             r_species=[ARCSpecies(label='CH2CH2NH2',\n",
    "                                                   smiles='[CH2]CN',\n",
    "                                                   xyz=\"\"\"C      -1.24450121    0.17451352    0.00786829\n",
    "                                                          C       0.09860657   -0.41192142   -0.18691029\n",
    "                                                          N       0.39631461   -0.45573259   -1.60474376\n",
    "                                                          H      -2.04227601   -0.03772349   -0.69530380\n",
    "                                                          H      -1.50683666    0.61023628    0.96427405\n",
    "                                                          H       0.11920004   -1.42399272    0.22817674\n",
    "                                                          H       0.85047586    0.18708096    0.33609395\n",
    "                                                          H       0.46736985    0.49732569   -1.95821046\n",
    "                                                          H       1.31599714   -0.87204344   -1.73848831\"\"\")],\n",
    "                             p_species=[ARCSpecies(label='CH3CH2NH',\n",
    "                                                   smiles='CC[NH]',\n",
    "                                                   xyz=\"\"\"C      -1.03259818   -0.08774861    0.01991495\n",
    "                                                          C       0.48269985   -0.19939835    0.09039740\n",
    "                                                          N       0.94816502   -1.32096642   -0.71111614\n",
    "                                                          H      -1.51589318   -0.99559128    0.39773163\n",
    "                                                          H      -1.37921961    0.75694189    0.62396315\n",
    "                                                          H      -1.37189872    0.07009088   -1.00987126\n",
    "                                                          H       0.78091492   -0.31605120    1.13875203\n",
    "                                                          H       0.92382278    0.74158978   -0.25822764\n",
    "                                                          H       1.97108857   -1.36649904   -0.64094836\"\"\")])"
   ]
  },
  {
   "cell_type": "markdown",
   "id": "3cd7e648",
   "metadata": {},
   "source": [
    "### Reaction family\n",
    "\n",
    "ARC currently supports atom mapping of several reaction families.\n",
    "\n",
    "To determine the reaction famly:"
   ]
  },
  {
   "cell_type": "code",
   "execution_count": 3,
   "id": "58816a03",
   "metadata": {},
   "outputs": [],
   "source": [
    "determine_family(rxn, db)"
   ]
  },
  {
   "cell_type": "code",
   "execution_count": 4,
   "id": "e4c65e63",
   "metadata": {},
   "outputs": [
    {
     "data": {
      "text/plain": [
       "<ReactionFamily \"intra_H_migration\">"
      ]
     },
     "execution_count": 4,
     "metadata": {},
     "output_type": "execute_result"
    }
   ],
   "source": [
    "rxn.family"
   ]
  },
  {
   "cell_type": "markdown",
   "id": "e4940334",
   "metadata": {},
   "source": [
    "### Map reaction:"
   ]
  },
  {
   "cell_type": "code",
   "execution_count": 5,
   "id": "ba76b760",
   "metadata": {},
   "outputs": [
    {
     "name": "stderr",
     "output_type": "stream",
     "text": [
      "WARNING:arc:Cannot infer 2D graph connectivity, failed to set species multiplicity with the following error:\n",
      "A multiplicity of 3 was given, but only 0 radicals were identified. Cannot infer 2D graph representation for this species.\n",
      "More info:[NH-]C[CH2+]\n",
      "multiplicity 3\n",
      "1 C u1 p0 c+1 {2,S} {4,S} {5,S}\n",
      "2 C u0 p0 c0 {1,S} {3,S} {6,S} {7,S}\n",
      "3 N u0 p2 c-1 {2,S} {8,S}\n",
      "4 H u0 p0 c0 {1,S}\n",
      "5 H u0 p0 c0 {1,S}\n",
      "6 H u0 p0 c0 {2,S}\n",
      "7 H u0 p0 c0 {2,S}\n",
      "8 H u0 p0 c0 {3,S}\n",
      "\n",
      "WARNING:arc:Cannot infer 2D graph connectivity, failed to set species multiplicity with the following error:\n",
      "A multiplicity of 3 was given, but only 0 radicals were identified. Cannot infer 2D graph representation for this species.\n",
      "More info:[NH-]C[CH2+]\n",
      "multiplicity 3\n",
      "1 C u1 p0 c+1 {2,S} {4,S} {5,S}\n",
      "2 C u0 p0 c0 {1,S} {3,S} {6,S} {7,S}\n",
      "3 N u0 p2 c-1 {2,S} {8,S}\n",
      "4 H u0 p0 c0 {1,S}\n",
      "5 H u0 p0 c0 {1,S}\n",
      "6 H u0 p0 c0 {2,S}\n",
      "7 H u0 p0 c0 {2,S}\n",
      "8 H u0 p0 c0 {3,S}\n",
      "\n",
      "WARNING:arc:Could not order atoms in\n",
      "1 C u0 p0 c+1 {2,S} {4,S} {5,S}\n",
      "2 C u0 p0 c0 {1,S} {3,S} {6,S} {7,S}\n",
      "3 N u0 p1 c+1 {2,S} {8,S}\n",
      "4 H u0 p0 c0 {1,S}\n",
      "5 H u0 p0 c0 {1,S}\n",
      "6 H u0 p0 c0 {2,S}\n",
      "7 H u0 p0 c0 {2,S}\n",
      "8 H u0 p0 c0 {3,S}\n",
      "\n",
      "Got the following error:\n",
      "Could not map non isomorphic molecules\n",
      "WARNING:arc:Could not order atoms in\n",
      "1 C u0 p0 c+1 {2,S} {4,S} {5,S}\n",
      "2 C u0 p0 c0 {1,S} {3,S} {6,S} {7,S}\n",
      "3 N u0 p1 c+1 {2,S} {8,S}\n",
      "4 H u0 p0 c0 {1,S}\n",
      "5 H u0 p0 c0 {1,S}\n",
      "6 H u0 p0 c0 {2,S}\n",
      "7 H u0 p0 c0 {2,S}\n",
      "8 H u0 p0 c0 {3,S}\n",
      "\n",
      "Got the following error:\n",
      "Could not map non isomorphic molecules\n",
      "WARNING:arc:Cannot infer 2D graph connectivity, failed to set species multiplicity with the following error:\n",
      "A multiplicity of 3 was given, but only 0 radicals were identified. Cannot infer 2D graph representation for this species.\n",
      "More info:[NH-]C[CH2+]\n",
      "multiplicity 3\n",
      "1 C u1 p0 c+1 {2,S} {4,S} {5,S}\n",
      "2 C u0 p0 c0 {1,S} {3,S} {6,S} {7,S}\n",
      "3 N u0 p2 c-1 {2,S} {8,S}\n",
      "4 H u0 p0 c0 {1,S}\n",
      "5 H u0 p0 c0 {1,S}\n",
      "6 H u0 p0 c0 {2,S}\n",
      "7 H u0 p0 c0 {2,S}\n",
      "8 H u0 p0 c0 {3,S}\n",
      "\n",
      "WARNING:arc:Cannot infer 2D graph connectivity, failed to set species multiplicity with the following error:\n",
      "A multiplicity of 3 was given, but only 0 radicals were identified. Cannot infer 2D graph representation for this species.\n",
      "More info:[NH-]C[CH2+]\n",
      "multiplicity 3\n",
      "1 C u1 p0 c+1 {2,S} {4,S} {5,S}\n",
      "2 C u0 p0 c0 {1,S} {3,S} {6,S} {7,S}\n",
      "3 N u0 p2 c-1 {2,S} {8,S}\n",
      "4 H u0 p0 c0 {1,S}\n",
      "5 H u0 p0 c0 {1,S}\n",
      "6 H u0 p0 c0 {2,S}\n",
      "7 H u0 p0 c0 {2,S}\n",
      "8 H u0 p0 c0 {3,S}\n",
      "\n",
      "WARNING:arc:Could not order atoms in\n",
      "1 C u0 p0 c+1 {2,S} {4,S} {5,S}\n",
      "2 C u0 p0 c0 {1,S} {3,S} {6,S} {7,S}\n",
      "3 N u0 p1 c+1 {2,S} {8,S}\n",
      "4 H u0 p0 c0 {1,S}\n",
      "5 H u0 p0 c0 {1,S}\n",
      "6 H u0 p0 c0 {2,S}\n",
      "7 H u0 p0 c0 {2,S}\n",
      "8 H u0 p0 c0 {3,S}\n",
      "\n",
      "Got the following error:\n",
      "Could not map non isomorphic molecules\n",
      "WARNING:arc:Could not order atoms in\n",
      "1 C u0 p0 c+1 {2,S} {4,S} {5,S}\n",
      "2 C u0 p0 c0 {1,S} {3,S} {6,S} {7,S}\n",
      "3 N u0 p1 c+1 {2,S} {8,S}\n",
      "4 H u0 p0 c0 {1,S}\n",
      "5 H u0 p0 c0 {1,S}\n",
      "6 H u0 p0 c0 {2,S}\n",
      "7 H u0 p0 c0 {2,S}\n",
      "8 H u0 p0 c0 {3,S}\n",
      "\n",
      "Got the following error:\n",
      "Could not map non isomorphic molecules\n"
     ]
    },
    {
     "data": {
      "text/plain": [
       "[0, 1, 2, 3, 5, 6, 7, 4, 8]"
      ]
     },
     "execution_count": 5,
     "metadata": {},
     "output_type": "execute_result"
    }
   ],
   "source": [
    "rxn.atom_map"
   ]
  },
  {
   "cell_type": "code",
   "execution_count": 11,
   "id": "81316487",
   "metadata": {},
   "outputs": [
    {
     "data": {
      "application/3dmoljs_load.v0": "<div id=\"3dmolviewer_1660128748870011\"  style=\"position: relative; width: 400px; height: 400px\">\n        <p id=\"3dmolwarning_1660128748870011\" style=\"background-color:#ffcccc;color:black\">You appear to be running in JupyterLab (or JavaScript failed to load for some other reason).  You need to install the 3dmol extension: <br>\n        <tt>jupyter labextension install jupyterlab_3dmol</tt></p>\n        </div>\n<script>\n\nvar loadScriptAsync = function(uri){\n  return new Promise((resolve, reject) => {\n    var tag = document.createElement('script');\n    tag.src = uri;\n    tag.async = true;\n    tag.onload = () => {\n      resolve();\n    };\n  var firstScriptTag = document.getElementsByTagName('script')[0];\n  firstScriptTag.parentNode.insertBefore(tag, firstScriptTag);\n});\n};\n\nif(typeof $3Dmolpromise === 'undefined') {\n$3Dmolpromise = null;\n  $3Dmolpromise = loadScriptAsync('https://3dmol.org/build/3Dmol.js');\n}\n\nvar viewer_1660128748870011 = null;\nvar warn = document.getElementById(\"3dmolwarning_1660128748870011\");\nif(warn) {\n    warn.parentNode.removeChild(warn);\n}\n$3Dmolpromise.then(function() {\nviewer_1660128748870011 = $3Dmol.createViewer($(\"#3dmolviewer_1660128748870011\"),{backgroundColor:\"white\"});\nviewer_1660128748870011.zoomTo();\n\tviewer_1660128748870011.addModel(\"\\n     RDKit          3D\\n\\n  9  8  0  0  0  0  0  0  0  0999 V2000\\n   -1.2445    0.1745    0.0079 C   0  0  0  0  0  3  0  0  0  0  0  0\\n    0.0986   -0.4119   -0.1869 C   0  0  0  0  0  0  0  0  0  0  0  0\\n    0.3963   -0.4557   -1.6047 N   0  0  0  0  0  0  0  0  0  0  0  0\\n   -2.0423   -0.0377   -0.6953 H   0  0  0  0  0  0  0  0  0  0  0  0\\n   -1.5068    0.6102    0.9643 H   0  0  0  0  0  0  0  0  0  0  0  0\\n    0.1192   -1.4240    0.2282 H   0  0  0  0  0  0  0  0  0  0  0  0\\n    0.8505    0.1871    0.3361 H   0  0  0  0  0  0  0  0  0  0  0  0\\n    0.4674    0.4973   -1.9582 H   0  0  0  0  0  0  0  0  0  0  0  0\\n    1.3160   -0.8720   -1.7385 H   0  0  0  0  0  0  0  0  0  0  0  0\\n  1  2  1  0\\n  1  4  1  0\\n  1  5  1  0\\n  2  3  1  0\\n  2  6  1  0\\n  2  7  1  0\\n  3  8  1  0\\n  3  9  1  0\\nM  RAD  1   1   2\\nM  END\\n\",\"sdf\");\n\tviewer_1660128748870011.setStyle({\"stick\": {}});\n\tviewer_1660128748870011.addPropertyLabels(\"index\",\"\",{\"fontSize\": 15, \"fontColor\": \"white\", \"alignment\": \"center\", \"showBackground\": true, \"backgroundOpacity\": 0.2, \"backgroundColor\": \"black\"});\n\tviewer_1660128748870011.zoomTo();\nviewer_1660128748870011.render();\n});\n</script>",
      "text/html": [
       "<div id=\"3dmolviewer_1660128748870011\"  style=\"position: relative; width: 400px; height: 400px\">\n",
       "        <p id=\"3dmolwarning_1660128748870011\" style=\"background-color:#ffcccc;color:black\">You appear to be running in JupyterLab (or JavaScript failed to load for some other reason).  You need to install the 3dmol extension: <br>\n",
       "        <tt>jupyter labextension install jupyterlab_3dmol</tt></p>\n",
       "        </div>\n",
       "<script>\n",
       "\n",
       "var loadScriptAsync = function(uri){\n",
       "  return new Promise((resolve, reject) => {\n",
       "    var tag = document.createElement('script');\n",
       "    tag.src = uri;\n",
       "    tag.async = true;\n",
       "    tag.onload = () => {\n",
       "      resolve();\n",
       "    };\n",
       "  var firstScriptTag = document.getElementsByTagName('script')[0];\n",
       "  firstScriptTag.parentNode.insertBefore(tag, firstScriptTag);\n",
       "});\n",
       "};\n",
       "\n",
       "if(typeof $3Dmolpromise === 'undefined') {\n",
       "$3Dmolpromise = null;\n",
       "  $3Dmolpromise = loadScriptAsync('https://3dmol.org/build/3Dmol.js');\n",
       "}\n",
       "\n",
       "var viewer_1660128748870011 = null;\n",
       "var warn = document.getElementById(\"3dmolwarning_1660128748870011\");\n",
       "if(warn) {\n",
       "    warn.parentNode.removeChild(warn);\n",
       "}\n",
       "$3Dmolpromise.then(function() {\n",
       "viewer_1660128748870011 = $3Dmol.createViewer($(\"#3dmolviewer_1660128748870011\"),{backgroundColor:\"white\"});\n",
       "viewer_1660128748870011.zoomTo();\n",
       "\tviewer_1660128748870011.addModel(\"\\n     RDKit          3D\\n\\n  9  8  0  0  0  0  0  0  0  0999 V2000\\n   -1.2445    0.1745    0.0079 C   0  0  0  0  0  3  0  0  0  0  0  0\\n    0.0986   -0.4119   -0.1869 C   0  0  0  0  0  0  0  0  0  0  0  0\\n    0.3963   -0.4557   -1.6047 N   0  0  0  0  0  0  0  0  0  0  0  0\\n   -2.0423   -0.0377   -0.6953 H   0  0  0  0  0  0  0  0  0  0  0  0\\n   -1.5068    0.6102    0.9643 H   0  0  0  0  0  0  0  0  0  0  0  0\\n    0.1192   -1.4240    0.2282 H   0  0  0  0  0  0  0  0  0  0  0  0\\n    0.8505    0.1871    0.3361 H   0  0  0  0  0  0  0  0  0  0  0  0\\n    0.4674    0.4973   -1.9582 H   0  0  0  0  0  0  0  0  0  0  0  0\\n    1.3160   -0.8720   -1.7385 H   0  0  0  0  0  0  0  0  0  0  0  0\\n  1  2  1  0\\n  1  4  1  0\\n  1  5  1  0\\n  2  3  1  0\\n  2  6  1  0\\n  2  7  1  0\\n  3  8  1  0\\n  3  9  1  0\\nM  RAD  1   1   2\\nM  END\\n\",\"sdf\");\n",
       "\tviewer_1660128748870011.setStyle({\"stick\": {}});\n",
       "\tviewer_1660128748870011.addPropertyLabels(\"index\",\"\",{\"fontSize\": 15, \"fontColor\": \"white\", \"alignment\": \"center\", \"showBackground\": true, \"backgroundOpacity\": 0.2, \"backgroundColor\": \"black\"});\n",
       "\tviewer_1660128748870011.zoomTo();\n",
       "viewer_1660128748870011.render();\n",
       "});\n",
       "</script>"
      ]
     },
     "metadata": {},
     "output_type": "display_data"
    },
    {
     "data": {
      "application/3dmoljs_load.v0": "<div id=\"3dmolviewer_16601287488716407\"  style=\"position: relative; width: 400px; height: 400px\">\n        <p id=\"3dmolwarning_16601287488716407\" style=\"background-color:#ffcccc;color:black\">You appear to be running in JupyterLab (or JavaScript failed to load for some other reason).  You need to install the 3dmol extension: <br>\n        <tt>jupyter labextension install jupyterlab_3dmol</tt></p>\n        </div>\n<script>\n\nvar loadScriptAsync = function(uri){\n  return new Promise((resolve, reject) => {\n    var tag = document.createElement('script');\n    tag.src = uri;\n    tag.async = true;\n    tag.onload = () => {\n      resolve();\n    };\n  var firstScriptTag = document.getElementsByTagName('script')[0];\n  firstScriptTag.parentNode.insertBefore(tag, firstScriptTag);\n});\n};\n\nif(typeof $3Dmolpromise === 'undefined') {\n$3Dmolpromise = null;\n  $3Dmolpromise = loadScriptAsync('https://3dmol.org/build/3Dmol.js');\n}\n\nvar viewer_16601287488716407 = null;\nvar warn = document.getElementById(\"3dmolwarning_16601287488716407\");\nif(warn) {\n    warn.parentNode.removeChild(warn);\n}\n$3Dmolpromise.then(function() {\nviewer_16601287488716407 = $3Dmol.createViewer($(\"#3dmolviewer_16601287488716407\"),{backgroundColor:\"white\"});\nviewer_16601287488716407.zoomTo();\n\tviewer_16601287488716407.addModel(\"\\n     RDKit          3D\\n\\n  9  8  0  0  0  0  0  0  0  0999 V2000\\n   -1.0326   -0.0877    0.0199 C   0  0  0  0  0  0  0  0  0  0  0  0\\n    0.4827   -0.1994    0.0904 C   0  0  0  0  0  0  0  0  0  0  0  0\\n    0.9482   -1.3210   -0.7111 N   0  0  0  0  0  2  0  0  0  0  0  0\\n   -1.5159   -0.9956    0.3977 H   0  0  0  0  0  0  0  0  0  0  0  0\\n   -1.3792    0.7569    0.6240 H   0  0  0  0  0  0  0  0  0  0  0  0\\n   -1.3719    0.0701   -1.0099 H   0  0  0  0  0  0  0  0  0  0  0  0\\n    0.7809   -0.3161    1.1388 H   0  0  0  0  0  0  0  0  0  0  0  0\\n    0.9238    0.7416   -0.2582 H   0  0  0  0  0  0  0  0  0  0  0  0\\n    1.9711   -1.3665   -0.6409 H   0  0  0  0  0  0  0  0  0  0  0  0\\n  1  2  1  0\\n  1  4  1  0\\n  1  5  1  0\\n  1  6  1  0\\n  2  3  1  0\\n  2  7  1  0\\n  2  8  1  0\\n  3  9  1  0\\nM  RAD  1   3   2\\nM  END\\n\",\"sdf\");\n\tviewer_16601287488716407.setStyle({\"stick\": {}});\n\tviewer_16601287488716407.addPropertyLabels(\"index\",\"\",{\"fontSize\": 15, \"fontColor\": \"white\", \"alignment\": \"center\", \"showBackground\": true, \"backgroundOpacity\": 0.2, \"backgroundColor\": \"black\"});\n\tviewer_16601287488716407.zoomTo();\nviewer_16601287488716407.render();\n});\n</script>",
      "text/html": [
       "<div id=\"3dmolviewer_16601287488716407\"  style=\"position: relative; width: 400px; height: 400px\">\n",
       "        <p id=\"3dmolwarning_16601287488716407\" style=\"background-color:#ffcccc;color:black\">You appear to be running in JupyterLab (or JavaScript failed to load for some other reason).  You need to install the 3dmol extension: <br>\n",
       "        <tt>jupyter labextension install jupyterlab_3dmol</tt></p>\n",
       "        </div>\n",
       "<script>\n",
       "\n",
       "var loadScriptAsync = function(uri){\n",
       "  return new Promise((resolve, reject) => {\n",
       "    var tag = document.createElement('script');\n",
       "    tag.src = uri;\n",
       "    tag.async = true;\n",
       "    tag.onload = () => {\n",
       "      resolve();\n",
       "    };\n",
       "  var firstScriptTag = document.getElementsByTagName('script')[0];\n",
       "  firstScriptTag.parentNode.insertBefore(tag, firstScriptTag);\n",
       "});\n",
       "};\n",
       "\n",
       "if(typeof $3Dmolpromise === 'undefined') {\n",
       "$3Dmolpromise = null;\n",
       "  $3Dmolpromise = loadScriptAsync('https://3dmol.org/build/3Dmol.js');\n",
       "}\n",
       "\n",
       "var viewer_16601287488716407 = null;\n",
       "var warn = document.getElementById(\"3dmolwarning_16601287488716407\");\n",
       "if(warn) {\n",
       "    warn.parentNode.removeChild(warn);\n",
       "}\n",
       "$3Dmolpromise.then(function() {\n",
       "viewer_16601287488716407 = $3Dmol.createViewer($(\"#3dmolviewer_16601287488716407\"),{backgroundColor:\"white\"});\n",
       "viewer_16601287488716407.zoomTo();\n",
       "\tviewer_16601287488716407.addModel(\"\\n     RDKit          3D\\n\\n  9  8  0  0  0  0  0  0  0  0999 V2000\\n   -1.0326   -0.0877    0.0199 C   0  0  0  0  0  0  0  0  0  0  0  0\\n    0.4827   -0.1994    0.0904 C   0  0  0  0  0  0  0  0  0  0  0  0\\n    0.9482   -1.3210   -0.7111 N   0  0  0  0  0  2  0  0  0  0  0  0\\n   -1.5159   -0.9956    0.3977 H   0  0  0  0  0  0  0  0  0  0  0  0\\n   -1.3792    0.7569    0.6240 H   0  0  0  0  0  0  0  0  0  0  0  0\\n   -1.3719    0.0701   -1.0099 H   0  0  0  0  0  0  0  0  0  0  0  0\\n    0.7809   -0.3161    1.1388 H   0  0  0  0  0  0  0  0  0  0  0  0\\n    0.9238    0.7416   -0.2582 H   0  0  0  0  0  0  0  0  0  0  0  0\\n    1.9711   -1.3665   -0.6409 H   0  0  0  0  0  0  0  0  0  0  0  0\\n  1  2  1  0\\n  1  4  1  0\\n  1  5  1  0\\n  1  6  1  0\\n  2  3  1  0\\n  2  7  1  0\\n  2  8  1  0\\n  3  9  1  0\\nM  RAD  1   3   2\\nM  END\\n\",\"sdf\");\n",
       "\tviewer_16601287488716407.setStyle({\"stick\": {}});\n",
       "\tviewer_16601287488716407.addPropertyLabels(\"index\",\"\",{\"fontSize\": 15, \"fontColor\": \"white\", \"alignment\": \"center\", \"showBackground\": true, \"backgroundOpacity\": 0.2, \"backgroundColor\": \"black\"});\n",
       "\tviewer_16601287488716407.zoomTo();\n",
       "viewer_16601287488716407.render();\n",
       "});\n",
       "</script>"
      ]
     },
     "metadata": {},
     "output_type": "display_data"
    }
   ],
   "source": [
    "for spc in rxn.r_species+rxn.p_species:\n",
    "    draw_structure(species = spc,show_atom_indices=True )"
   ]
  }
 ],
 "metadata": {
  "kernelspec": {
   "display_name": "Python 3 (ipykernel)",
   "language": "python",
   "name": "python3"
  },
  "language_info": {
   "codemirror_mode": {
    "name": "ipython",
    "version": 3
   },
   "file_extension": ".py",
   "mimetype": "text/x-python",
   "name": "python",
   "nbconvert_exporter": "python",
   "pygments_lexer": "ipython3",
   "version": "3.7.13"
  }
 },
 "nbformat": 4,
 "nbformat_minor": 5
}
