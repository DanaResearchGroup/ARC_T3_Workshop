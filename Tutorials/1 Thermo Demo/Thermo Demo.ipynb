{
 "cells": [
  {
   "cell_type": "markdown",
   "id": "8955a2d0",
   "metadata": {},
   "source": [
    "## Thermo Demo\n",
    "\n",
    "### Compute thermodynamic properties for some species using the GFN2 force field implemented in xTB\n",
    "\n",
    "(no server access required)"
   ]
  },
  {
   "cell_type": "markdown",
   "id": "a3c4c337",
   "metadata": {},
   "source": [
    "### 1. Imports"
   ]
  },
  {
   "cell_type": "code",
   "execution_count": null,
   "id": "e57e61dc",
   "metadata": {},
   "outputs": [],
   "source": [
    "from ARC import ARC\n",
    "from arc.species import ARCSpecies\n",
    "from arc.reaction import ARCReaction\n",
    "\n",
    "from IPython.display import display\n",
    "%matplotlib notebook\n",
    "%matplotlib inline"
   ]
  },
  {
   "cell_type": "markdown",
   "id": "0f0bf584",
   "metadata": {},
   "source": [
    "### 2. Define the species\n",
    "\n",
    "Add your species to this dictionary!"
   ]
  },
  {
   "cell_type": "code",
   "execution_count": null,
   "id": "c892210c",
   "metadata": {},
   "outputs": [],
   "source": [
    "smiles_dict = {'OH': '[OH]',\n",
    "               'propane': 'CCC',\n",
    "               'Ethylamine': 'NCC',\n",
    "               'butanol': 'CCCCO',\n",
    "              }"
   ]
  },
  {
   "cell_type": "code",
   "execution_count": null,
   "id": "723843ef",
   "metadata": {},
   "outputs": [],
   "source": [
    "species_list = list()\n",
    "for label, smiles in smiles_dict.items():\n",
    "    species = ARCSpecies(label=label, smiles=smiles)  # ARC also accepts InChI just XYZ coordinates\n",
    "    species_list.append(species)\n",
    "    display(species.mol.copy(deep=True))"
   ]
  },
  {
   "cell_type": "markdown",
   "id": "b5ccc60d",
   "metadata": {},
   "source": [
    "### 3. Create an ARC object, define level of theory and other parameters"
   ]
  },
  {
   "cell_type": "code",
   "execution_count": null,
   "id": "387ce979",
   "metadata": {},
   "outputs": [],
   "source": [
    "job_types = {'conformers': True,  # determine lowest energy conformer if coordinates weren't given by the user\n",
    "             'opt': True,         # geometry optimization\n",
    "             'fine_grid': False,  # a second geometry optimization using a finer grid\n",
    "             'freq': True,        # compute vibrational frequencies\n",
    "             'sp': True,          # compute single-point energy\n",
    "             'rotors': False,     # perform 1D scans of all internal rotations\n",
    "             'irc': False,        # perform intrinsic reaction coordinate (IRC) computations\n",
    "            }\n",
    "\n",
    "\n",
    "arc_object = ARC(project='ArcThermoDemo',\n",
    "                 species=species_list,\n",
    "                 job_types=job_types,\n",
    "                 conformer_level='gfn2',\n",
    "                 level_of_theory='gfn2',  # users can also seperately set opt_level, freq_level, sp_level, etc.\n",
    "                 freq_scale_factor=1.0,\n",
    "                )"
   ]
  },
  {
   "cell_type": "markdown",
   "id": "a74013d3",
   "metadata": {},
   "source": [
    "### 4. Ececute ARC"
   ]
  },
  {
   "cell_type": "code",
   "execution_count": null,
   "id": "168474fa",
   "metadata": {
    "scrolled": false
   },
   "outputs": [],
   "source": [
    "arc_object.execute()"
   ]
  }
 ],
 "metadata": {
  "kernelspec": {
   "display_name": "Python 3 (ipykernel)",
   "language": "python",
   "name": "python3"
  },
  "language_info": {
   "codemirror_mode": {
    "name": "ipython",
    "version": 3
   },
   "file_extension": ".py",
   "mimetype": "text/x-python",
   "name": "python",
   "nbconvert_exporter": "python",
   "pygments_lexer": "ipython3",
   "version": "3.7.12"
  }
 },
 "nbformat": 4,
 "nbformat_minor": 5
}
